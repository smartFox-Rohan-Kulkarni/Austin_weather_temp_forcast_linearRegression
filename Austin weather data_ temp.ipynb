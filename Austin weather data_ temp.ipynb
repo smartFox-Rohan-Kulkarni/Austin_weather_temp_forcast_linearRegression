{
 "cells": [
  {
   "cell_type": "code",
   "execution_count": 19,
   "metadata": {},
   "outputs": [],
   "source": [
    "import scipy\n",
    "import numpy as np\n",
    "import pandas as pd\n",
    "import sklearn\n",
    "import seaborn as sns\n",
    "%matplotlib inline\n",
    "import matplotlib.pyplot as plt"
   ]
  },
  {
   "cell_type": "code",
   "execution_count": 28,
   "metadata": {},
   "outputs": [
    {
     "name": "stdout",
     "output_type": "stream",
     "text": [
      "(1319, 21)\n"
     ]
    },
    {
     "data": {
      "text/html": [
       "<div>\n",
       "<style scoped>\n",
       "    .dataframe tbody tr th:only-of-type {\n",
       "        vertical-align: middle;\n",
       "    }\n",
       "\n",
       "    .dataframe tbody tr th {\n",
       "        vertical-align: top;\n",
       "    }\n",
       "\n",
       "    .dataframe thead th {\n",
       "        text-align: right;\n",
       "    }\n",
       "</style>\n",
       "<table border=\"1\" class=\"dataframe\">\n",
       "  <thead>\n",
       "    <tr style=\"text-align: right;\">\n",
       "      <th></th>\n",
       "      <th>TempAvgF</th>\n",
       "      <th>DewPointAvgF</th>\n",
       "      <th>HumidityAvgPercent</th>\n",
       "      <th>SeaLevelPressureAvgInches</th>\n",
       "      <th>VisibilityAvgMiles</th>\n",
       "      <th>WindAvgMPH</th>\n",
       "      <th>PrecipitationSumInches</th>\n",
       "      <th>Events</th>\n",
       "    </tr>\n",
       "  </thead>\n",
       "  <tbody>\n",
       "    <tr>\n",
       "      <td>0</td>\n",
       "      <td>60</td>\n",
       "      <td>49</td>\n",
       "      <td>75</td>\n",
       "      <td>29.68</td>\n",
       "      <td>7</td>\n",
       "      <td>4</td>\n",
       "      <td>0.46</td>\n",
       "      <td>Rain , Thunderstorm</td>\n",
       "    </tr>\n",
       "    <tr>\n",
       "      <td>1</td>\n",
       "      <td>48</td>\n",
       "      <td>36</td>\n",
       "      <td>68</td>\n",
       "      <td>30.13</td>\n",
       "      <td>10</td>\n",
       "      <td>6</td>\n",
       "      <td>0</td>\n",
       "      <td></td>\n",
       "    </tr>\n",
       "    <tr>\n",
       "      <td>2</td>\n",
       "      <td>45</td>\n",
       "      <td>27</td>\n",
       "      <td>52</td>\n",
       "      <td>30.49</td>\n",
       "      <td>10</td>\n",
       "      <td>3</td>\n",
       "      <td>0</td>\n",
       "      <td></td>\n",
       "    </tr>\n",
       "    <tr>\n",
       "      <td>3</td>\n",
       "      <td>46</td>\n",
       "      <td>28</td>\n",
       "      <td>56</td>\n",
       "      <td>30.45</td>\n",
       "      <td>10</td>\n",
       "      <td>4</td>\n",
       "      <td>0</td>\n",
       "      <td></td>\n",
       "    </tr>\n",
       "    <tr>\n",
       "      <td>4</td>\n",
       "      <td>50</td>\n",
       "      <td>40</td>\n",
       "      <td>71</td>\n",
       "      <td>30.33</td>\n",
       "      <td>10</td>\n",
       "      <td>2</td>\n",
       "      <td>T</td>\n",
       "      <td></td>\n",
       "    </tr>\n",
       "  </tbody>\n",
       "</table>\n",
       "</div>"
      ],
      "text/plain": [
       "   TempAvgF DewPointAvgF HumidityAvgPercent SeaLevelPressureAvgInches  \\\n",
       "0        60           49                 75                     29.68   \n",
       "1        48           36                 68                     30.13   \n",
       "2        45           27                 52                     30.49   \n",
       "3        46           28                 56                     30.45   \n",
       "4        50           40                 71                     30.33   \n",
       "\n",
       "  VisibilityAvgMiles WindAvgMPH PrecipitationSumInches               Events  \n",
       "0                  7          4                   0.46  Rain , Thunderstorm  \n",
       "1                 10          6                      0                       \n",
       "2                 10          3                      0                       \n",
       "3                 10          4                      0                       \n",
       "4                 10          2                      T                       "
      ]
     },
     "execution_count": 28,
     "metadata": {},
     "output_type": "execute_result"
    }
   ],
   "source": [
    "#load data\n",
    "data = pd.read_csv('austin_weather.csv')\n",
    "print(data.shape)\n",
    "data.head(10)\n",
    "sub_data = data[['TempAvgF','DewPointAvgF','HumidityAvgPercent', 'SeaLevelPressureAvgInches', 'VisibilityAvgMiles', 'WindAvgMPH','PrecipitationSumInches', 'Events']]\n",
    "sub_data.head()"
   ]
  },
  {
   "cell_type": "code",
   "execution_count": 36,
   "metadata": {},
   "outputs": [
    {
     "name": "stdout",
     "output_type": "stream",
     "text": [
      "          TempAvgF\n",
      "count  1319.000000\n",
      "mean     70.642911\n",
      "std      14.045904\n",
      "min      29.000000\n",
      "25%      62.000000\n",
      "50%      73.000000\n",
      "75%      83.000000\n",
      "max      93.000000\n",
      "<class 'pandas.core.frame.DataFrame'>\n",
      "RangeIndex: 1319 entries, 0 to 1318\n",
      "Data columns (total 8 columns):\n",
      "TempAvgF                     1319 non-null int64\n",
      "DewPointAvgF                 1319 non-null object\n",
      "HumidityAvgPercent           1319 non-null object\n",
      "SeaLevelPressureAvgInches    1319 non-null object\n",
      "VisibilityAvgMiles           1319 non-null object\n",
      "WindAvgMPH                   1319 non-null object\n",
      "PrecipitationSumInches       1319 non-null object\n",
      "Events                       1319 non-null object\n",
      "dtypes: int64(1), object(7)\n",
      "memory usage: 82.6+ KB\n",
      "None\n"
     ]
    }
   ],
   "source": [
    "#describe data\n",
    "print(sub_data.describe())\n",
    "print(sub_data.info())"
   ]
  },
  {
   "cell_type": "code",
   "execution_count": 30,
   "metadata": {},
   "outputs": [
    {
     "name": "stdout",
     "output_type": "stream",
     "text": [
      "TempAvgF\n",
      "29     3\n",
      "30     1\n",
      "32     2\n",
      "33     2\n",
      "34     7\n",
      "      ..\n",
      "89    48\n",
      "90    26\n",
      "91    10\n",
      "92     6\n",
      "93     1\n",
      "Length: 64, dtype: int64\n"
     ]
    }
   ],
   "source": [
    "print(sub_data.groupby('TempAvgF').size())"
   ]
  },
  {
   "cell_type": "code",
   "execution_count": 35,
   "metadata": {},
   "outputs": [
    {
     "data": {
      "text/plain": [
       "<matplotlib.axes._subplots.AxesSubplot at 0x1c72f691388>"
      ]
     },
     "execution_count": 35,
     "metadata": {},
     "output_type": "execute_result"
    },
    {
     "data": {
      "image/png": "[encoded data removed]",
      "text/plain": [
       "<Figure size 432x288 with 1 Axes>"
      ]
     },
     "metadata": {
      "needs_background": "light"
     },
     "output_type": "display_data"
    }
   ],
   "source": [
    "sns.countplot(x='TempAvgF', hue='WindAvgMPH', data = sub_data)"
   ]
  },
  {
   "cell_type": "code",
   "execution_count": 37,
   "metadata": {},
   "outputs": [
    {
     "data": {
      "text/plain": [
       "TempAvgF                     0\n",
       "DewPointAvgF                 0\n",
       "HumidityAvgPercent           0\n",
       "SeaLevelPressureAvgInches    0\n",
       "VisibilityAvgMiles           0\n",
       "WindAvgMPH                   0\n",
       "PrecipitationSumInches       0\n",
       "Events                       0\n",
       "dtype: int64"
      ]
     },
     "execution_count": 37,
     "metadata": {},
     "output_type": "execute_result"
    }
   ],
   "source": [
    "sub_data.isnull().sum()"
   ]
  },
  {
   "cell_type": "code",
   "execution_count": 38,
   "metadata": {},
   "outputs": [
    {
     "data": {
      "text/html": [
       "<div>\n",
       "<style scoped>\n",
       "    .dataframe tbody tr th:only-of-type {\n",
       "        vertical-align: middle;\n",
       "    }\n",
       "\n",
       "    .dataframe tbody tr th {\n",
       "        vertical-align: top;\n",
       "    }\n",
       "\n",
       "    .dataframe thead th {\n",
       "        text-align: right;\n",
       "    }\n",
       "</style>\n",
       "<table border=\"1\" class=\"dataframe\">\n",
       "  <thead>\n",
       "    <tr style=\"text-align: right;\">\n",
       "      <th></th>\n",
       "      <th>TempAvgF</th>\n",
       "      <th>DewPointAvgF</th>\n",
       "      <th>HumidityAvgPercent</th>\n",
       "      <th>SeaLevelPressureAvgInches</th>\n",
       "      <th>VisibilityAvgMiles</th>\n",
       "      <th>WindAvgMPH</th>\n",
       "      <th>PrecipitationSumInches</th>\n",
       "      <th>Events</th>\n",
       "    </tr>\n",
       "  </thead>\n",
       "  <tbody>\n",
       "    <tr>\n",
       "      <td>0</td>\n",
       "      <td>60</td>\n",
       "      <td>49</td>\n",
       "      <td>75</td>\n",
       "      <td>29.68</td>\n",
       "      <td>7</td>\n",
       "      <td>4</td>\n",
       "      <td>0.46</td>\n",
       "      <td>Rain , Thunderstorm</td>\n",
       "    </tr>\n",
       "    <tr>\n",
       "      <td>1</td>\n",
       "      <td>48</td>\n",
       "      <td>36</td>\n",
       "      <td>68</td>\n",
       "      <td>30.13</td>\n",
       "      <td>10</td>\n",
       "      <td>6</td>\n",
       "      <td>0</td>\n",
       "      <td></td>\n",
       "    </tr>\n",
       "    <tr>\n",
       "      <td>2</td>\n",
       "      <td>45</td>\n",
       "      <td>27</td>\n",
       "      <td>52</td>\n",
       "      <td>30.49</td>\n",
       "      <td>10</td>\n",
       "      <td>3</td>\n",
       "      <td>0</td>\n",
       "      <td></td>\n",
       "    </tr>\n",
       "    <tr>\n",
       "      <td>3</td>\n",
       "      <td>46</td>\n",
       "      <td>28</td>\n",
       "      <td>56</td>\n",
       "      <td>30.45</td>\n",
       "      <td>10</td>\n",
       "      <td>4</td>\n",
       "      <td>0</td>\n",
       "      <td></td>\n",
       "    </tr>\n",
       "    <tr>\n",
       "      <td>4</td>\n",
       "      <td>50</td>\n",
       "      <td>40</td>\n",
       "      <td>71</td>\n",
       "      <td>30.33</td>\n",
       "      <td>10</td>\n",
       "      <td>2</td>\n",
       "      <td>0</td>\n",
       "      <td></td>\n",
       "    </tr>\n",
       "    <tr>\n",
       "      <td>5</td>\n",
       "      <td>48</td>\n",
       "      <td>36</td>\n",
       "      <td>63</td>\n",
       "      <td>30.4</td>\n",
       "      <td>9</td>\n",
       "      <td>3</td>\n",
       "      <td>0</td>\n",
       "      <td></td>\n",
       "    </tr>\n",
       "    <tr>\n",
       "      <td>6</td>\n",
       "      <td>53</td>\n",
       "      <td>39</td>\n",
       "      <td>65</td>\n",
       "      <td>30.39</td>\n",
       "      <td>9</td>\n",
       "      <td>1</td>\n",
       "      <td>0</td>\n",
       "      <td></td>\n",
       "    </tr>\n",
       "    <tr>\n",
       "      <td>7</td>\n",
       "      <td>51</td>\n",
       "      <td>39</td>\n",
       "      <td>64</td>\n",
       "      <td>30.17</td>\n",
       "      <td>10</td>\n",
       "      <td>2</td>\n",
       "      <td>0</td>\n",
       "      <td></td>\n",
       "    </tr>\n",
       "    <tr>\n",
       "      <td>8</td>\n",
       "      <td>50</td>\n",
       "      <td>41</td>\n",
       "      <td>76</td>\n",
       "      <td>30.1</td>\n",
       "      <td>10</td>\n",
       "      <td>5</td>\n",
       "      <td>0</td>\n",
       "      <td></td>\n",
       "    </tr>\n",
       "    <tr>\n",
       "      <td>9</td>\n",
       "      <td>40</td>\n",
       "      <td>26</td>\n",
       "      <td>60</td>\n",
       "      <td>30.33</td>\n",
       "      <td>10</td>\n",
       "      <td>5</td>\n",
       "      <td>0</td>\n",
       "      <td></td>\n",
       "    </tr>\n",
       "    <tr>\n",
       "      <td>10</td>\n",
       "      <td>46</td>\n",
       "      <td>28</td>\n",
       "      <td>54</td>\n",
       "      <td>30.39</td>\n",
       "      <td>10</td>\n",
       "      <td>1</td>\n",
       "      <td>0</td>\n",
       "      <td></td>\n",
       "    </tr>\n",
       "    <tr>\n",
       "      <td>11</td>\n",
       "      <td>54</td>\n",
       "      <td>42</td>\n",
       "      <td>68</td>\n",
       "      <td>30.11</td>\n",
       "      <td>10</td>\n",
       "      <td>4</td>\n",
       "      <td>0</td>\n",
       "      <td></td>\n",
       "    </tr>\n",
       "    <tr>\n",
       "      <td>12</td>\n",
       "      <td>44</td>\n",
       "      <td>26</td>\n",
       "      <td>55</td>\n",
       "      <td>30.37</td>\n",
       "      <td>10</td>\n",
       "      <td>8</td>\n",
       "      <td>0</td>\n",
       "      <td></td>\n",
       "    </tr>\n",
       "    <tr>\n",
       "      <td>13</td>\n",
       "      <td>43</td>\n",
       "      <td>22</td>\n",
       "      <td>49</td>\n",
       "      <td>30.35</td>\n",
       "      <td>10</td>\n",
       "      <td>4</td>\n",
       "      <td>0</td>\n",
       "      <td></td>\n",
       "    </tr>\n",
       "    <tr>\n",
       "      <td>14</td>\n",
       "      <td>57</td>\n",
       "      <td>48</td>\n",
       "      <td>68</td>\n",
       "      <td>29.95</td>\n",
       "      <td>10</td>\n",
       "      <td>7</td>\n",
       "      <td>0</td>\n",
       "      <td></td>\n",
       "    </tr>\n",
       "    <tr>\n",
       "      <td>15</td>\n",
       "      <td>47</td>\n",
       "      <td>32</td>\n",
       "      <td>59</td>\n",
       "      <td>30.08</td>\n",
       "      <td>10</td>\n",
       "      <td>10</td>\n",
       "      <td>0</td>\n",
       "      <td></td>\n",
       "    </tr>\n",
       "    <tr>\n",
       "      <td>16</td>\n",
       "      <td>29</td>\n",
       "      <td>8</td>\n",
       "      <td>38</td>\n",
       "      <td>30.68</td>\n",
       "      <td>10</td>\n",
       "      <td>7</td>\n",
       "      <td>0</td>\n",
       "      <td></td>\n",
       "    </tr>\n",
       "    <tr>\n",
       "      <td>17</td>\n",
       "      <td>35</td>\n",
       "      <td>11</td>\n",
       "      <td>43</td>\n",
       "      <td>30.52</td>\n",
       "      <td>10</td>\n",
       "      <td>5</td>\n",
       "      <td>0</td>\n",
       "      <td></td>\n",
       "    </tr>\n",
       "    <tr>\n",
       "      <td>18</td>\n",
       "      <td>47</td>\n",
       "      <td>45</td>\n",
       "      <td>75</td>\n",
       "      <td>30.2</td>\n",
       "      <td>2</td>\n",
       "      <td>1</td>\n",
       "      <td>0.16</td>\n",
       "      <td>Rain</td>\n",
       "    </tr>\n",
       "    <tr>\n",
       "      <td>19</td>\n",
       "      <td>62</td>\n",
       "      <td>55</td>\n",
       "      <td>80</td>\n",
       "      <td>30.11</td>\n",
       "      <td>4</td>\n",
       "      <td>3</td>\n",
       "      <td>0</td>\n",
       "      <td>Fog</td>\n",
       "    </tr>\n",
       "  </tbody>\n",
       "</table>\n",
       "</div>"
      ],
      "text/plain": [
       "    TempAvgF DewPointAvgF HumidityAvgPercent SeaLevelPressureAvgInches  \\\n",
       "0         60           49                 75                     29.68   \n",
       "1         48           36                 68                     30.13   \n",
       "2         45           27                 52                     30.49   \n",
       "3         46           28                 56                     30.45   \n",
       "4         50           40                 71                     30.33   \n",
       "5         48           36                 63                      30.4   \n",
       "6         53           39                 65                     30.39   \n",
       "7         51           39                 64                     30.17   \n",
       "8         50           41                 76                      30.1   \n",
       "9         40           26                 60                     30.33   \n",
       "10        46           28                 54                     30.39   \n",
       "11        54           42                 68                     30.11   \n",
       "12        44           26                 55                     30.37   \n",
       "13        43           22                 49                     30.35   \n",
       "14        57           48                 68                     29.95   \n",
       "15        47           32                 59                     30.08   \n",
       "16        29            8                 38                     30.68   \n",
       "17        35           11                 43                     30.52   \n",
       "18        47           45                 75                      30.2   \n",
       "19        62           55                 80                     30.11   \n",
       "\n",
       "   VisibilityAvgMiles WindAvgMPH PrecipitationSumInches               Events  \n",
       "0                   7          4                   0.46  Rain , Thunderstorm  \n",
       "1                  10          6                      0                       \n",
       "2                  10          3                      0                       \n",
       "3                  10          4                      0                       \n",
       "4                  10          2                      0                       \n",
       "5                   9          3                      0                       \n",
       "6                   9          1                      0                       \n",
       "7                  10          2                      0                       \n",
       "8                  10          5                      0                       \n",
       "9                  10          5                      0                       \n",
       "10                 10          1                      0                       \n",
       "11                 10          4                      0                       \n",
       "12                 10          8                      0                       \n",
       "13                 10          4                      0                       \n",
       "14                 10          7                      0                       \n",
       "15                 10         10                      0                       \n",
       "16                 10          7                      0                       \n",
       "17                 10          5                      0                       \n",
       "18                  2          1                   0.16                 Rain  \n",
       "19                  4          3                      0                  Fog  "
      ]
     },
     "execution_count": 38,
     "metadata": {},
     "output_type": "execute_result"
    }
   ],
   "source": [
    "sub_data = sub_data.replace('T', 0.0) \n",
    "sub_data = sub_data.replace('-', 0.0)\n",
    "sub_data.head(20)"
   ]
  },
  {
   "cell_type": "code",
   "execution_count": 40,
   "metadata": {},
   "outputs": [],
   "source": [
    "sub_data.drop(\"Events\",axis =1,inplace =True)"
   ]
  },
  {
   "cell_type": "code",
   "execution_count": 41,
   "metadata": {},
   "outputs": [
    {
     "data": {
      "text/html": [
       "<div>\n",
       "<style scoped>\n",
       "    .dataframe tbody tr th:only-of-type {\n",
       "        vertical-align: middle;\n",
       "    }\n",
       "\n",
       "    .dataframe tbody tr th {\n",
       "        vertical-align: top;\n",
       "    }\n",
       "\n",
       "    .dataframe thead th {\n",
       "        text-align: right;\n",
       "    }\n",
       "</style>\n",
       "<table border=\"1\" class=\"dataframe\">\n",
       "  <thead>\n",
       "    <tr style=\"text-align: right;\">\n",
       "      <th></th>\n",
       "      <th>TempAvgF</th>\n",
       "      <th>DewPointAvgF</th>\n",
       "      <th>HumidityAvgPercent</th>\n",
       "      <th>SeaLevelPressureAvgInches</th>\n",
       "      <th>VisibilityAvgMiles</th>\n",
       "      <th>WindAvgMPH</th>\n",
       "      <th>PrecipitationSumInches</th>\n",
       "    </tr>\n",
       "  </thead>\n",
       "  <tbody>\n",
       "    <tr>\n",
       "      <td>0</td>\n",
       "      <td>60</td>\n",
       "      <td>49</td>\n",
       "      <td>75</td>\n",
       "      <td>29.68</td>\n",
       "      <td>7</td>\n",
       "      <td>4</td>\n",
       "      <td>0.46</td>\n",
       "    </tr>\n",
       "    <tr>\n",
       "      <td>1</td>\n",
       "      <td>48</td>\n",
       "      <td>36</td>\n",
       "      <td>68</td>\n",
       "      <td>30.13</td>\n",
       "      <td>10</td>\n",
       "      <td>6</td>\n",
       "      <td>0</td>\n",
       "    </tr>\n",
       "    <tr>\n",
       "      <td>2</td>\n",
       "      <td>45</td>\n",
       "      <td>27</td>\n",
       "      <td>52</td>\n",
       "      <td>30.49</td>\n",
       "      <td>10</td>\n",
       "      <td>3</td>\n",
       "      <td>0</td>\n",
       "    </tr>\n",
       "    <tr>\n",
       "      <td>3</td>\n",
       "      <td>46</td>\n",
       "      <td>28</td>\n",
       "      <td>56</td>\n",
       "      <td>30.45</td>\n",
       "      <td>10</td>\n",
       "      <td>4</td>\n",
       "      <td>0</td>\n",
       "    </tr>\n",
       "    <tr>\n",
       "      <td>4</td>\n",
       "      <td>50</td>\n",
       "      <td>40</td>\n",
       "      <td>71</td>\n",
       "      <td>30.33</td>\n",
       "      <td>10</td>\n",
       "      <td>2</td>\n",
       "      <td>0</td>\n",
       "    </tr>\n",
       "  </tbody>\n",
       "</table>\n",
       "</div>"
      ],
      "text/plain": [
       "   TempAvgF DewPointAvgF HumidityAvgPercent SeaLevelPressureAvgInches  \\\n",
       "0        60           49                 75                     29.68   \n",
       "1        48           36                 68                     30.13   \n",
       "2        45           27                 52                     30.49   \n",
       "3        46           28                 56                     30.45   \n",
       "4        50           40                 71                     30.33   \n",
       "\n",
       "  VisibilityAvgMiles WindAvgMPH PrecipitationSumInches  \n",
       "0                  7          4                   0.46  \n",
       "1                 10          6                      0  \n",
       "2                 10          3                      0  \n",
       "3                 10          4                      0  \n",
       "4                 10          2                      0  "
      ]
     },
     "execution_count": 41,
     "metadata": {},
     "output_type": "execute_result"
    }
   ],
   "source": [
    "sub_data.head()"
   ]
  },
  {
   "cell_type": "code",
   "execution_count": 47,
   "metadata": {},
   "outputs": [],
   "source": [
    "#split data\n",
    "array_Data =sub_data.values\n",
    "X = array_Data[:,1:]\n",
    "Y = array_Data[:,0]\n",
    "t_size = 0.2\n",
    "seed =2"
   ]
  },
  {
   "cell_type": "code",
   "execution_count": 48,
   "metadata": {},
   "outputs": [],
   "source": [
    "from sklearn.model_selection import train_test_split\n",
    "X_train, X_test, Y_train, Y_test = train_test_split(X, Y, test_size = t_size, random_state = seed)"
   ]
  },
  {
   "cell_type": "code",
   "execution_count": 51,
   "metadata": {},
   "outputs": [],
   "source": [
    "from sklearn.linear_model import LinearRegression"
   ]
  },
  {
   "cell_type": "code",
   "execution_count": 54,
   "metadata": {},
   "outputs": [],
   "source": [
    "linearRM = LinearRegression()"
   ]
  },
  {
   "cell_type": "code",
   "execution_count": 55,
   "metadata": {},
   "outputs": [
    {
     "data": {
      "text/plain": [
       "LinearRegression(copy_X=True, fit_intercept=True, n_jobs=None, normalize=False)"
      ]
     },
     "execution_count": 55,
     "metadata": {},
     "output_type": "execute_result"
    }
   ],
   "source": [
    "linearRM.fit(X_train, Y_train)"
   ]
  },
  {
   "cell_type": "code",
   "execution_count": 56,
   "metadata": {},
   "outputs": [
    {
     "data": {
      "text/plain": [
       "0.899290374895695"
      ]
     },
     "execution_count": 56,
     "metadata": {},
     "output_type": "execute_result"
    }
   ],
   "source": [
    "r_sq =linearRM.score(X_train, Y_train)\n",
    "r_sq"
   ]
  },
  {
   "cell_type": "code",
   "execution_count": 75,
   "metadata": {},
   "outputs": [],
   "source": [
    "y_predV = linearRM.predict(X_test)"
   ]
  },
  {
   "cell_type": "code",
   "execution_count": 77,
   "metadata": {},
   "outputs": [],
   "source": [
    "from sklearn.linear_model import LinearRegression\n",
    "from sklearn.metrics import mean_squared_error\n",
    "from sklearn.metrics import r2_score "
   ]
  },
  {
   "cell_type": "code",
   "execution_count": 86,
   "metadata": {},
   "outputs": [
    {
     "name": "stdout",
     "output_type": "stream",
     "text": [
      "[[87.]\n",
      " [74.]\n",
      " [86.]\n",
      " [73.]\n",
      " [84.]\n",
      " [89.]\n",
      " [62.]\n",
      " [58.]\n",
      " [52.]\n",
      " [71.]]\n",
      "[[82.15148379]\n",
      " [75.07707004]\n",
      " [82.16762998]\n",
      " [72.58801498]\n",
      " [81.898538  ]\n",
      " [86.98353871]\n",
      " [66.42849779]\n",
      " [59.03267729]\n",
      " [54.62039537]\n",
      " [77.57201939]]\n",
      "Accuracy:  0.934494956663178\n"
     ]
    }
   ],
   "source": [
    "Y_test = Y_test.reshape(len(Y_test), 1)\n",
    "y_predV = y_predV.reshape(len(y_predV), 1)\n",
    "print(Y_test[:10])\n",
    "print(y_predV[:10])"
   ]
  },
  {
   "cell_type": "code",
   "execution_count": 87,
   "metadata": {},
   "outputs": [
    {
     "name": "stdout",
     "output_type": "stream",
     "text": [
      "Accuracy:  0.934494956663178\n"
     ]
    }
   ],
   "source": [
    "#r2_score = reg.score(X, y)\n",
    "r2 = r2_score(Y_test, y_predV)\n",
    "print(\"Accuracy: \",r2)"
   ]
  },
  {
   "cell_type": "code",
   "execution_count": null,
   "metadata": {},
   "outputs": [],
   "source": []
  }
 ],
 "metadata": {
  "kernelspec": {
   "display_name": "Python 3",
   "language": "python",
   "name": "python3"
  },
  "language_info": {
   "codemirror_mode": {
    "name": "ipython",
    "version": 3
   },
   "file_extension": ".py",
   "mimetype": "text/x-python",
   "name": "python",
   "nbconvert_exporter": "python",
   "pygments_lexer": "ipython3",
   "version": "3.7.4"
  }
 },
 "nbformat": 4,
 "nbformat_minor": 2
}
